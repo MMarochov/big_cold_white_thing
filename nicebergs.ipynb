{
 "cells": [
  {
   "cell_type": "code",
   "execution_count": 45,
   "metadata": {},
   "outputs": [],
   "source": [
    "import geopandas as gpd\n",
    "import movingpandas as mpd\n",
    "from datetime import datetime\n",
    "from pyproj import CRS"
   ]
  },
  {
   "cell_type": "code",
   "execution_count": 33,
   "metadata": {},
   "outputs": [],
   "source": [
    "iceberg_name = \"a69a\""
   ]
  },
  {
   "cell_type": "code",
   "execution_count": 34,
   "metadata": {},
   "outputs": [],
   "source": [
    "df = gpd.read_file(f'data/stats_database_v5/stats/{iceberg_name}.csv')"
   ]
  },
  {
   "cell_type": "code",
   "execution_count": 35,
   "metadata": {},
   "outputs": [
    {
     "data": {
      "text/html": [
       "<div>\n",
       "<style scoped>\n",
       "    .dataframe tbody tr th:only-of-type {\n",
       "        vertical-align: middle;\n",
       "    }\n",
       "\n",
       "    .dataframe tbody tr th {\n",
       "        vertical-align: top;\n",
       "    }\n",
       "\n",
       "    .dataframe thead th {\n",
       "        text-align: right;\n",
       "    }\n",
       "</style>\n",
       "<table border=\"1\" class=\"dataframe\">\n",
       "  <thead>\n",
       "    <tr style=\"text-align: right;\">\n",
       "      <th></th>\n",
       "      <th>date</th>\n",
       "      <th>date_gap</th>\n",
       "      <th>disp</th>\n",
       "      <th>flags</th>\n",
       "      <th>lat</th>\n",
       "      <th>lon</th>\n",
       "      <th>mask</th>\n",
       "      <th>size</th>\n",
       "      <th>vel_angle</th>\n",
       "      <th>geometry</th>\n",
       "    </tr>\n",
       "  </thead>\n",
       "  <tbody>\n",
       "    <tr>\n",
       "      <th>0</th>\n",
       "      <td>2020191</td>\n",
       "      <td>0</td>\n",
       "      <td>0</td>\n",
       "      <td>6</td>\n",
       "      <td>-69.015</td>\n",
       "      <td>-60.503</td>\n",
       "      <td>0</td>\n",
       "      <td>1924.42</td>\n",
       "      <td>0</td>\n",
       "      <td>None</td>\n",
       "    </tr>\n",
       "    <tr>\n",
       "      <th>1</th>\n",
       "      <td>2020192</td>\n",
       "      <td>1</td>\n",
       "      <td>6.369</td>\n",
       "      <td>6</td>\n",
       "      <td>-68.959</td>\n",
       "      <td>-60.529</td>\n",
       "      <td>0</td>\n",
       "      <td>1922.42</td>\n",
       "      <td>0</td>\n",
       "      <td>None</td>\n",
       "    </tr>\n",
       "    <tr>\n",
       "      <th>2</th>\n",
       "      <td>2020193</td>\n",
       "      <td>1</td>\n",
       "      <td>3.557</td>\n",
       "      <td>7</td>\n",
       "      <td>-68.99</td>\n",
       "      <td>-60.547</td>\n",
       "      <td>0</td>\n",
       "      <td>1920.42</td>\n",
       "      <td>0</td>\n",
       "      <td>None</td>\n",
       "    </tr>\n",
       "    <tr>\n",
       "      <th>3</th>\n",
       "      <td>2020194</td>\n",
       "      <td>1</td>\n",
       "      <td>0.18</td>\n",
       "      <td>7</td>\n",
       "      <td>-68.989</td>\n",
       "      <td>-60.549</td>\n",
       "      <td>0</td>\n",
       "      <td>1918.42</td>\n",
       "      <td>0</td>\n",
       "      <td>None</td>\n",
       "    </tr>\n",
       "    <tr>\n",
       "      <th>4</th>\n",
       "      <td>2020195</td>\n",
       "      <td>1</td>\n",
       "      <td>0.276</td>\n",
       "      <td>7</td>\n",
       "      <td>-68.987</td>\n",
       "      <td>-60.553</td>\n",
       "      <td>0</td>\n",
       "      <td>1916.42</td>\n",
       "      <td>0</td>\n",
       "      <td>None</td>\n",
       "    </tr>\n",
       "  </tbody>\n",
       "</table>\n",
       "</div>"
      ],
      "text/plain": [
       "      date date_gap   disp flags      lat      lon mask     size vel_angle  \\\n",
       "0  2020191        0      0     6  -69.015  -60.503    0  1924.42         0   \n",
       "1  2020192        1  6.369     6  -68.959  -60.529    0  1922.42         0   \n",
       "2  2020193        1  3.557     7   -68.99  -60.547    0  1920.42         0   \n",
       "3  2020194        1   0.18     7  -68.989  -60.549    0  1918.42         0   \n",
       "4  2020195        1  0.276     7  -68.987  -60.553    0  1916.42         0   \n",
       "\n",
       "  geometry  \n",
       "0     None  \n",
       "1     None  \n",
       "2     None  \n",
       "3     None  \n",
       "4     None  "
      ]
     },
     "execution_count": 35,
     "metadata": {},
     "output_type": "execute_result"
    }
   ],
   "source": [
    "df.head()"
   ]
  },
  {
   "cell_type": "code",
   "execution_count": 36,
   "metadata": {},
   "outputs": [
    {
     "data": {
      "text/html": [
       "<div>\n",
       "<style scoped>\n",
       "    .dataframe tbody tr th:only-of-type {\n",
       "        vertical-align: middle;\n",
       "    }\n",
       "\n",
       "    .dataframe tbody tr th {\n",
       "        vertical-align: top;\n",
       "    }\n",
       "\n",
       "    .dataframe thead th {\n",
       "        text-align: right;\n",
       "    }\n",
       "</style>\n",
       "<table border=\"1\" class=\"dataframe\">\n",
       "  <thead>\n",
       "    <tr style=\"text-align: right;\">\n",
       "      <th></th>\n",
       "      <th>date</th>\n",
       "      <th>date_gap</th>\n",
       "      <th>disp</th>\n",
       "      <th>flags</th>\n",
       "      <th>lat</th>\n",
       "      <th>lon</th>\n",
       "      <th>mask</th>\n",
       "      <th>size</th>\n",
       "      <th>vel_angle</th>\n",
       "      <th>geometry</th>\n",
       "    </tr>\n",
       "  </thead>\n",
       "  <tbody>\n",
       "    <tr>\n",
       "      <th>0</th>\n",
       "      <td>2020191</td>\n",
       "      <td>0</td>\n",
       "      <td>0</td>\n",
       "      <td>6</td>\n",
       "      <td>-69.015</td>\n",
       "      <td>-60.503</td>\n",
       "      <td>0</td>\n",
       "      <td>1924.42</td>\n",
       "      <td>0</td>\n",
       "      <td>POINT (-60.503 -69.015)</td>\n",
       "    </tr>\n",
       "    <tr>\n",
       "      <th>1</th>\n",
       "      <td>2020192</td>\n",
       "      <td>1</td>\n",
       "      <td>6.369</td>\n",
       "      <td>6</td>\n",
       "      <td>-68.959</td>\n",
       "      <td>-60.529</td>\n",
       "      <td>0</td>\n",
       "      <td>1922.42</td>\n",
       "      <td>0</td>\n",
       "      <td>POINT (-60.529 -68.959)</td>\n",
       "    </tr>\n",
       "    <tr>\n",
       "      <th>2</th>\n",
       "      <td>2020193</td>\n",
       "      <td>1</td>\n",
       "      <td>3.557</td>\n",
       "      <td>7</td>\n",
       "      <td>-68.99</td>\n",
       "      <td>-60.547</td>\n",
       "      <td>0</td>\n",
       "      <td>1920.42</td>\n",
       "      <td>0</td>\n",
       "      <td>POINT (-60.547 -68.990)</td>\n",
       "    </tr>\n",
       "    <tr>\n",
       "      <th>3</th>\n",
       "      <td>2020194</td>\n",
       "      <td>1</td>\n",
       "      <td>0.18</td>\n",
       "      <td>7</td>\n",
       "      <td>-68.989</td>\n",
       "      <td>-60.549</td>\n",
       "      <td>0</td>\n",
       "      <td>1918.42</td>\n",
       "      <td>0</td>\n",
       "      <td>POINT (-60.549 -68.989)</td>\n",
       "    </tr>\n",
       "    <tr>\n",
       "      <th>4</th>\n",
       "      <td>2020195</td>\n",
       "      <td>1</td>\n",
       "      <td>0.276</td>\n",
       "      <td>7</td>\n",
       "      <td>-68.987</td>\n",
       "      <td>-60.553</td>\n",
       "      <td>0</td>\n",
       "      <td>1916.42</td>\n",
       "      <td>0</td>\n",
       "      <td>POINT (-60.553 -68.987)</td>\n",
       "    </tr>\n",
       "  </tbody>\n",
       "</table>\n",
       "</div>"
      ],
      "text/plain": [
       "      date date_gap   disp flags      lat      lon mask     size vel_angle  \\\n",
       "0  2020191        0      0     6  -69.015  -60.503    0  1924.42         0   \n",
       "1  2020192        1  6.369     6  -68.959  -60.529    0  1922.42         0   \n",
       "2  2020193        1  3.557     7   -68.99  -60.547    0  1920.42         0   \n",
       "3  2020194        1   0.18     7  -68.989  -60.549    0  1918.42         0   \n",
       "4  2020195        1  0.276     7  -68.987  -60.553    0  1916.42         0   \n",
       "\n",
       "                  geometry  \n",
       "0  POINT (-60.503 -69.015)  \n",
       "1  POINT (-60.529 -68.959)  \n",
       "2  POINT (-60.547 -68.990)  \n",
       "3  POINT (-60.549 -68.989)  \n",
       "4  POINT (-60.553 -68.987)  "
      ]
     },
     "execution_count": 36,
     "metadata": {},
     "output_type": "execute_result"
    }
   ],
   "source": [
    "df['geometry'] = gpd.GeoSeries.from_xy(df['lon'], df['lat'], crs='epsg:3031')\n",
    "df.head()"
   ]
  },
  {
   "cell_type": "code",
   "execution_count": 37,
   "metadata": {},
   "outputs": [
    {
     "data": {
      "text/plain": [
       "<AxesSubplot:>"
      ]
     },
     "execution_count": 37,
     "metadata": {},
     "output_type": "execute_result"
    },
    {
     "data": {
      "image/png": "[encoded data removed]",
      "text/plain": [
       "<Figure size 640x480 with 1 Axes>"
      ]
     },
     "metadata": {},
     "output_type": "display_data"
    }
   ],
   "source": [
    "df.plot()"
   ]
  },
  {
   "cell_type": "code",
   "execution_count": 15,
   "metadata": {},
   "outputs": [
    {
     "data": {
      "text/plain": [
       "str"
      ]
     },
     "execution_count": 15,
     "metadata": {},
     "output_type": "execute_result"
    }
   ],
   "source": [
    "type(df.date[0])"
   ]
  },
  {
   "cell_type": "code",
   "execution_count": 38,
   "metadata": {},
   "outputs": [],
   "source": [
    "df.date = [datetime.strptime(date, '%Y%j') for date in df.date]\n",
    "# df.date = datetime.strptime(x, '%Y-%m-%d') for x in df.date"
   ]
  },
  {
   "cell_type": "code",
   "execution_count": 39,
   "metadata": {},
   "outputs": [
    {
     "data": {
      "text/html": [
       "<div>\n",
       "<style scoped>\n",
       "    .dataframe tbody tr th:only-of-type {\n",
       "        vertical-align: middle;\n",
       "    }\n",
       "\n",
       "    .dataframe tbody tr th {\n",
       "        vertical-align: top;\n",
       "    }\n",
       "\n",
       "    .dataframe thead th {\n",
       "        text-align: right;\n",
       "    }\n",
       "</style>\n",
       "<table border=\"1\" class=\"dataframe\">\n",
       "  <thead>\n",
       "    <tr style=\"text-align: right;\">\n",
       "      <th></th>\n",
       "      <th>date</th>\n",
       "      <th>date_gap</th>\n",
       "      <th>disp</th>\n",
       "      <th>flags</th>\n",
       "      <th>lat</th>\n",
       "      <th>lon</th>\n",
       "      <th>mask</th>\n",
       "      <th>size</th>\n",
       "      <th>vel_angle</th>\n",
       "      <th>geometry</th>\n",
       "    </tr>\n",
       "  </thead>\n",
       "  <tbody>\n",
       "    <tr>\n",
       "      <th>0</th>\n",
       "      <td>2020-07-09</td>\n",
       "      <td>0</td>\n",
       "      <td>0</td>\n",
       "      <td>6</td>\n",
       "      <td>-69.015</td>\n",
       "      <td>-60.503</td>\n",
       "      <td>0</td>\n",
       "      <td>1924.42</td>\n",
       "      <td>0</td>\n",
       "      <td>POINT (-60.503 -69.015)</td>\n",
       "    </tr>\n",
       "    <tr>\n",
       "      <th>1</th>\n",
       "      <td>2020-07-10</td>\n",
       "      <td>1</td>\n",
       "      <td>6.369</td>\n",
       "      <td>6</td>\n",
       "      <td>-68.959</td>\n",
       "      <td>-60.529</td>\n",
       "      <td>0</td>\n",
       "      <td>1922.42</td>\n",
       "      <td>0</td>\n",
       "      <td>POINT (-60.529 -68.959)</td>\n",
       "    </tr>\n",
       "    <tr>\n",
       "      <th>2</th>\n",
       "      <td>2020-07-11</td>\n",
       "      <td>1</td>\n",
       "      <td>3.557</td>\n",
       "      <td>7</td>\n",
       "      <td>-68.99</td>\n",
       "      <td>-60.547</td>\n",
       "      <td>0</td>\n",
       "      <td>1920.42</td>\n",
       "      <td>0</td>\n",
       "      <td>POINT (-60.547 -68.990)</td>\n",
       "    </tr>\n",
       "    <tr>\n",
       "      <th>3</th>\n",
       "      <td>2020-07-12</td>\n",
       "      <td>1</td>\n",
       "      <td>0.18</td>\n",
       "      <td>7</td>\n",
       "      <td>-68.989</td>\n",
       "      <td>-60.549</td>\n",
       "      <td>0</td>\n",
       "      <td>1918.42</td>\n",
       "      <td>0</td>\n",
       "      <td>POINT (-60.549 -68.989)</td>\n",
       "    </tr>\n",
       "    <tr>\n",
       "      <th>4</th>\n",
       "      <td>2020-07-13</td>\n",
       "      <td>1</td>\n",
       "      <td>0.276</td>\n",
       "      <td>7</td>\n",
       "      <td>-68.987</td>\n",
       "      <td>-60.553</td>\n",
       "      <td>0</td>\n",
       "      <td>1916.42</td>\n",
       "      <td>0</td>\n",
       "      <td>POINT (-60.553 -68.987)</td>\n",
       "    </tr>\n",
       "  </tbody>\n",
       "</table>\n",
       "</div>"
      ],
      "text/plain": [
       "        date date_gap   disp flags      lat      lon mask     size vel_angle  \\\n",
       "0 2020-07-09        0      0     6  -69.015  -60.503    0  1924.42         0   \n",
       "1 2020-07-10        1  6.369     6  -68.959  -60.529    0  1922.42         0   \n",
       "2 2020-07-11        1  3.557     7   -68.99  -60.547    0  1920.42         0   \n",
       "3 2020-07-12        1   0.18     7  -68.989  -60.549    0  1918.42         0   \n",
       "4 2020-07-13        1  0.276     7  -68.987  -60.553    0  1916.42         0   \n",
       "\n",
       "                  geometry  \n",
       "0  POINT (-60.503 -69.015)  \n",
       "1  POINT (-60.529 -68.959)  \n",
       "2  POINT (-60.547 -68.990)  \n",
       "3  POINT (-60.549 -68.989)  \n",
       "4  POINT (-60.553 -68.987)  "
      ]
     },
     "execution_count": 39,
     "metadata": {},
     "output_type": "execute_result"
    }
   ],
   "source": [
    "df.head()"
   ]
  },
  {
   "cell_type": "code",
   "execution_count": 40,
   "metadata": {},
   "outputs": [],
   "source": [
    "traj = mpd.Trajectory(df, iceberg_name, t='date', x='lon', y='lat', crs='epsg:3031')"
   ]
  },
  {
   "cell_type": "code",
   "execution_count": 42,
   "metadata": {},
   "outputs": [
    {
     "data": {
      "text/html": [
       "<div>\n",
       "<style scoped>\n",
       "    .dataframe tbody tr th:only-of-type {\n",
       "        vertical-align: middle;\n",
       "    }\n",
       "\n",
       "    .dataframe tbody tr th {\n",
       "        vertical-align: top;\n",
       "    }\n",
       "\n",
       "    .dataframe thead th {\n",
       "        text-align: right;\n",
       "    }\n",
       "</style>\n",
       "<table border=\"1\" class=\"dataframe\">\n",
       "  <thead>\n",
       "    <tr style=\"text-align: right;\">\n",
       "      <th></th>\n",
       "      <th>date_gap</th>\n",
       "      <th>disp</th>\n",
       "      <th>flags</th>\n",
       "      <th>lat</th>\n",
       "      <th>lon</th>\n",
       "      <th>mask</th>\n",
       "      <th>size</th>\n",
       "      <th>vel_angle</th>\n",
       "      <th>geometry</th>\n",
       "    </tr>\n",
       "    <tr>\n",
       "      <th>date</th>\n",
       "      <th></th>\n",
       "      <th></th>\n",
       "      <th></th>\n",
       "      <th></th>\n",
       "      <th></th>\n",
       "      <th></th>\n",
       "      <th></th>\n",
       "      <th></th>\n",
       "      <th></th>\n",
       "    </tr>\n",
       "  </thead>\n",
       "  <tbody>\n",
       "    <tr>\n",
       "      <th>2020-07-09</th>\n",
       "      <td>0</td>\n",
       "      <td>0</td>\n",
       "      <td>6</td>\n",
       "      <td>-69.015</td>\n",
       "      <td>-60.503</td>\n",
       "      <td>0</td>\n",
       "      <td>1924.42</td>\n",
       "      <td>0</td>\n",
       "      <td>POINT (-60.503 -69.015)</td>\n",
       "    </tr>\n",
       "    <tr>\n",
       "      <th>2020-07-10</th>\n",
       "      <td>1</td>\n",
       "      <td>6.369</td>\n",
       "      <td>6</td>\n",
       "      <td>-68.959</td>\n",
       "      <td>-60.529</td>\n",
       "      <td>0</td>\n",
       "      <td>1922.42</td>\n",
       "      <td>0</td>\n",
       "      <td>POINT (-60.529 -68.959)</td>\n",
       "    </tr>\n",
       "    <tr>\n",
       "      <th>2020-07-11</th>\n",
       "      <td>1</td>\n",
       "      <td>3.557</td>\n",
       "      <td>7</td>\n",
       "      <td>-68.99</td>\n",
       "      <td>-60.547</td>\n",
       "      <td>0</td>\n",
       "      <td>1920.42</td>\n",
       "      <td>0</td>\n",
       "      <td>POINT (-60.547 -68.990)</td>\n",
       "    </tr>\n",
       "    <tr>\n",
       "      <th>2020-07-12</th>\n",
       "      <td>1</td>\n",
       "      <td>0.18</td>\n",
       "      <td>7</td>\n",
       "      <td>-68.989</td>\n",
       "      <td>-60.549</td>\n",
       "      <td>0</td>\n",
       "      <td>1918.42</td>\n",
       "      <td>0</td>\n",
       "      <td>POINT (-60.549 -68.989)</td>\n",
       "    </tr>\n",
       "    <tr>\n",
       "      <th>2020-07-13</th>\n",
       "      <td>1</td>\n",
       "      <td>0.276</td>\n",
       "      <td>7</td>\n",
       "      <td>-68.987</td>\n",
       "      <td>-60.553</td>\n",
       "      <td>0</td>\n",
       "      <td>1916.42</td>\n",
       "      <td>0</td>\n",
       "      <td>POINT (-60.553 -68.987)</td>\n",
       "    </tr>\n",
       "  </tbody>\n",
       "</table>\n",
       "</div>"
      ],
      "text/plain": [
       "           date_gap   disp flags      lat      lon mask     size vel_angle  \\\n",
       "date                                                                         \n",
       "2020-07-09        0      0     6  -69.015  -60.503    0  1924.42         0   \n",
       "2020-07-10        1  6.369     6  -68.959  -60.529    0  1922.42         0   \n",
       "2020-07-11        1  3.557     7   -68.99  -60.547    0  1920.42         0   \n",
       "2020-07-12        1   0.18     7  -68.989  -60.549    0  1918.42         0   \n",
       "2020-07-13        1  0.276     7  -68.987  -60.553    0  1916.42         0   \n",
       "\n",
       "                           geometry  \n",
       "date                                 \n",
       "2020-07-09  POINT (-60.503 -69.015)  \n",
       "2020-07-10  POINT (-60.529 -68.959)  \n",
       "2020-07-11  POINT (-60.547 -68.990)  \n",
       "2020-07-12  POINT (-60.549 -68.989)  \n",
       "2020-07-13  POINT (-60.553 -68.987)  "
      ]
     },
     "execution_count": 42,
     "metadata": {},
     "output_type": "execute_result"
    }
   ],
   "source": [
    "traj.df.head()"
   ]
  },
  {
   "cell_type": "code",
   "execution_count": 43,
   "metadata": {},
   "outputs": [
    {
     "name": "stderr",
     "output_type": "stream",
     "text": [
      "c:\\Users\\MMarochov\\Anaconda3\\envs\\mpd-ex\\lib\\site-packages\\pandas\\core\\dtypes\\cast.py:122: ShapelyDeprecationWarning: The array interface is deprecated and will no longer work in Shapely 2.0. Convert the '.coords' to a numpy array instead.\n",
      "  arr = construct_1d_object_array_from_listlike(values)\n"
     ]
    },
    {
     "data": {
      "text/plain": [
       "<AxesSubplot:>"
      ]
     },
     "execution_count": 43,
     "metadata": {},
     "output_type": "execute_result"
    },
    {
     "data": {
      "image/png": "[encoded data removed]",
      "text/plain": [
       "<Figure size 640x480 with 1 Axes>"
      ]
     },
     "metadata": {},
     "output_type": "display_data"
    }
   ],
   "source": [
    "traj.plot()"
   ]
  },
  {
   "cell_type": "code",
   "execution_count": 46,
   "metadata": {},
   "outputs": [
    {
     "data": {
      "text/plain": [
       "Trajectory a69a (2020-07-09 00:00:00 to 2022-04-25 00:00:00) | Size: 635 | Length: 22.4m\n",
       "Bounds: (-61.28, -69.056, -58.59, -65.51)\n",
       "LINESTRING (-60.503 -69.015, -60.529 -68.959, -60.547 -68.99, -60.549 -68.989, -60.553 -68.987, -60."
      ]
     },
     "execution_count": 46,
     "metadata": {},
     "output_type": "execute_result"
    }
   ],
   "source": [
    "traj.to_crs(CRS(3031))"
   ]
  },
  {
   "cell_type": "code",
   "execution_count": 47,
   "metadata": {},
   "outputs": [
    {
     "name": "stderr",
     "output_type": "stream",
     "text": [
      "c:\\Users\\MMarochov\\Anaconda3\\envs\\mpd-ex\\lib\\site-packages\\pandas\\core\\dtypes\\cast.py:122: ShapelyDeprecationWarning: The array interface is deprecated and will no longer work in Shapely 2.0. Convert the '.coords' to a numpy array instead.\n",
      "  arr = construct_1d_object_array_from_listlike(values)\n"
     ]
    },
    {
     "ename": "ValueError",
     "evalue": "Cannot transform naive geometries.  Please set a crs on the object first.",
     "output_type": "error",
     "traceback": [
      "\u001b[1;31m---------------------------------------------------------------------------\u001b[0m",
      "\u001b[1;31mValueError\u001b[0m                                Traceback (most recent call last)",
      "\u001b[1;32mc:\\Users\\MMarochov\\OneDrive - Ordnance Survey\\Documents 1\\repos\\big_cold_white_thing\\nicebergs.ipynb Cell 14'\u001b[0m in \u001b[0;36m<cell line: 1>\u001b[1;34m()\u001b[0m\n\u001b[1;32m----> <a href='vscode-notebook-cell:/c%3A/Users/MMarochov/OneDrive%20-%20Ordnance%20Survey/Documents%201/repos/big_cold_white_thing/nicebergs.ipynb#ch0000015?line=0'>1</a>\u001b[0m traj\u001b[39m.\u001b[39;49mhvplot()\n",
      "File \u001b[1;32mc:\\Users\\MMarochov\\Anaconda3\\envs\\mpd-ex\\lib\\site-packages\\movingpandas\\trajectory.py:235\u001b[0m, in \u001b[0;36mTrajectory.hvplot\u001b[1;34m(self, *args, **kwargs)\u001b[0m\n\u001b[0;32m    <a href='file:///c%3A/Users/MMarochov/Anaconda3/envs/mpd-ex/lib/site-packages/movingpandas/trajectory.py?line=211'>212</a>\u001b[0m \u001b[39mdef\u001b[39;00m \u001b[39mhvplot\u001b[39m(\u001b[39mself\u001b[39m, \u001b[39m*\u001b[39margs, \u001b[39m*\u001b[39m\u001b[39m*\u001b[39mkwargs):\n\u001b[0;32m    <a href='file:///c%3A/Users/MMarochov/Anaconda3/envs/mpd-ex/lib/site-packages/movingpandas/trajectory.py?line=212'>213</a>\u001b[0m     \u001b[39m\"\"\"\u001b[39;00m\n\u001b[0;32m    <a href='file:///c%3A/Users/MMarochov/Anaconda3/envs/mpd-ex/lib/site-packages/movingpandas/trajectory.py?line=213'>214</a>\u001b[0m \u001b[39m    Generate an interactive plot using HoloViews.\u001b[39;00m\n\u001b[0;32m    <a href='file:///c%3A/Users/MMarochov/Anaconda3/envs/mpd-ex/lib/site-packages/movingpandas/trajectory.py?line=214'>215</a>\u001b[0m \n\u001b[1;32m   (...)\u001b[0m\n\u001b[0;32m    <a href='file:///c%3A/Users/MMarochov/Anaconda3/envs/mpd-ex/lib/site-packages/movingpandas/trajectory.py?line=232'>233</a>\u001b[0m \u001b[39m    >>> trajectory.hvplot(c='speed', line_width=7.0, width=700, height=400, colorbar=True)\u001b[39;00m\n\u001b[0;32m    <a href='file:///c%3A/Users/MMarochov/Anaconda3/envs/mpd-ex/lib/site-packages/movingpandas/trajectory.py?line=233'>234</a>\u001b[0m \u001b[39m    \"\"\"\u001b[39;00m  \u001b[39m# noqa: E501\u001b[39;00m\n\u001b[1;32m--> <a href='file:///c%3A/Users/MMarochov/Anaconda3/envs/mpd-ex/lib/site-packages/movingpandas/trajectory.py?line=234'>235</a>\u001b[0m     \u001b[39mreturn\u001b[39;00m _TrajectoryPlotter(\u001b[39mself\u001b[39;49m, \u001b[39m*\u001b[39;49margs, \u001b[39m*\u001b[39;49m\u001b[39m*\u001b[39;49mkwargs)\u001b[39m.\u001b[39;49mhvplot()\n",
      "File \u001b[1;32mc:\\Users\\MMarochov\\Anaconda3\\envs\\mpd-ex\\lib\\site-packages\\movingpandas\\trajectory_plotter.py:119\u001b[0m, in \u001b[0;36m_TrajectoryPlotter.hvplot\u001b[1;34m(self)\u001b[0m\n\u001b[0;32m    <a href='file:///c%3A/Users/MMarochov/Anaconda3/envs/mpd-ex/lib/site-packages/movingpandas/trajectory_plotter.py?line=112'>113</a>\u001b[0m \u001b[39mdef\u001b[39;00m \u001b[39mhvplot\u001b[39m(\u001b[39mself\u001b[39m):  \u001b[39m# noqa F811\u001b[39;00m\n\u001b[0;32m    <a href='file:///c%3A/Users/MMarochov/Anaconda3/envs/mpd-ex/lib/site-packages/movingpandas/trajectory_plotter.py?line=113'>114</a>\u001b[0m     opts\u001b[39m.\u001b[39mdefaults(\n\u001b[0;32m    <a href='file:///c%3A/Users/MMarochov/Anaconda3/envs/mpd-ex/lib/site-packages/movingpandas/trajectory_plotter.py?line=114'>115</a>\u001b[0m         opts\u001b[39m.\u001b[39mOverlay(\n\u001b[0;32m    <a href='file:///c%3A/Users/MMarochov/Anaconda3/envs/mpd-ex/lib/site-packages/movingpandas/trajectory_plotter.py?line=115'>116</a>\u001b[0m             width\u001b[39m=\u001b[39m\u001b[39mself\u001b[39m\u001b[39m.\u001b[39mwidth, height\u001b[39m=\u001b[39m\u001b[39mself\u001b[39m\u001b[39m.\u001b[39mheight, active_tools\u001b[39m=\u001b[39m[\u001b[39m\"\u001b[39m\u001b[39mwheel_zoom\u001b[39m\u001b[39m\"\u001b[39m]\n\u001b[0;32m    <a href='file:///c%3A/Users/MMarochov/Anaconda3/envs/mpd-ex/lib/site-packages/movingpandas/trajectory_plotter.py?line=116'>117</a>\u001b[0m         )\n\u001b[0;32m    <a href='file:///c%3A/Users/MMarochov/Anaconda3/envs/mpd-ex/lib/site-packages/movingpandas/trajectory_plotter.py?line=117'>118</a>\u001b[0m     )\n\u001b[1;32m--> <a href='file:///c%3A/Users/MMarochov/Anaconda3/envs/mpd-ex/lib/site-packages/movingpandas/trajectory_plotter.py?line=118'>119</a>\u001b[0m     \u001b[39mreturn\u001b[39;00m \u001b[39mself\u001b[39;49m\u001b[39m.\u001b[39;49m_hvplot_trajectory(\u001b[39mself\u001b[39;49m\u001b[39m.\u001b[39;49mdata)\n",
      "File \u001b[1;32mc:\\Users\\MMarochov\\Anaconda3\\envs\\mpd-ex\\lib\\site-packages\\movingpandas\\trajectory_plotter.py:75\u001b[0m, in \u001b[0;36m_TrajectoryPlotter._hvplot_trajectory\u001b[1;34m(self, traj)\u001b[0m\n\u001b[0;32m     <a href='file:///c%3A/Users/MMarochov/Anaconda3/envs/mpd-ex/lib/site-packages/movingpandas/trajectory_plotter.py?line=72'>73</a>\u001b[0m line_gdf \u001b[39m=\u001b[39m \u001b[39mself\u001b[39m\u001b[39m.\u001b[39m_make_line_df(traj)\n\u001b[0;32m     <a href='file:///c%3A/Users/MMarochov/Anaconda3/envs/mpd-ex/lib/site-packages/movingpandas/trajectory_plotter.py?line=73'>74</a>\u001b[0m \u001b[39mif\u001b[39;00m \u001b[39mself\u001b[39m\u001b[39m.\u001b[39mhvplot_is_geo \u001b[39mand\u001b[39;00m \u001b[39mnot\u001b[39;00m traj\u001b[39m.\u001b[39mis_latlon \u001b[39mand\u001b[39;00m traj\u001b[39m.\u001b[39mcrs \u001b[39mis\u001b[39;00m \u001b[39mnot\u001b[39;00m \u001b[39mNone\u001b[39;00m:\n\u001b[1;32m---> <a href='file:///c%3A/Users/MMarochov/Anaconda3/envs/mpd-ex/lib/site-packages/movingpandas/trajectory_plotter.py?line=74'>75</a>\u001b[0m     line_gdf \u001b[39m=\u001b[39m line_gdf\u001b[39m.\u001b[39;49mto_crs(epsg\u001b[39m=\u001b[39;49m\u001b[39m4326\u001b[39;49m)\n\u001b[0;32m     <a href='file:///c%3A/Users/MMarochov/Anaconda3/envs/mpd-ex/lib/site-packages/movingpandas/trajectory_plotter.py?line=75'>76</a>\u001b[0m \u001b[39mif\u001b[39;00m \u001b[39mself\u001b[39m\u001b[39m.\u001b[39mcolumn \u001b[39mand\u001b[39;00m \u001b[39misinstance\u001b[39m(\u001b[39mself\u001b[39m\u001b[39m.\u001b[39mcolumn, \u001b[39mstr\u001b[39m):\n\u001b[0;32m     <a href='file:///c%3A/Users/MMarochov/Anaconda3/envs/mpd-ex/lib/site-packages/movingpandas/trajectory_plotter.py?line=76'>77</a>\u001b[0m     \u001b[39mself\u001b[39m\u001b[39m.\u001b[39mkwargs[\u001b[39m\"\u001b[39m\u001b[39mc\u001b[39m\u001b[39m\"\u001b[39m] \u001b[39m=\u001b[39m dim(\n\u001b[0;32m     <a href='file:///c%3A/Users/MMarochov/Anaconda3/envs/mpd-ex/lib/site-packages/movingpandas/trajectory_plotter.py?line=77'>78</a>\u001b[0m         \u001b[39mself\u001b[39m\u001b[39m.\u001b[39mcolumn\n\u001b[0;32m     <a href='file:///c%3A/Users/MMarochov/Anaconda3/envs/mpd-ex/lib/site-packages/movingpandas/trajectory_plotter.py?line=78'>79</a>\u001b[0m     )  \u001b[39m# fixes https://github.com/anitagraser/movingpandas/issues/71\u001b[39;00m\n",
      "File \u001b[1;32mc:\\Users\\MMarochov\\Anaconda3\\envs\\mpd-ex\\lib\\site-packages\\geopandas\\geodataframe.py:1361\u001b[0m, in \u001b[0;36mGeoDataFrame.to_crs\u001b[1;34m(self, crs, epsg, inplace)\u001b[0m\n\u001b[0;32m   <a href='file:///c%3A/Users/MMarochov/Anaconda3/envs/mpd-ex/lib/site-packages/geopandas/geodataframe.py?line=1358'>1359</a>\u001b[0m \u001b[39melse\u001b[39;00m:\n\u001b[0;32m   <a href='file:///c%3A/Users/MMarochov/Anaconda3/envs/mpd-ex/lib/site-packages/geopandas/geodataframe.py?line=1359'>1360</a>\u001b[0m     df \u001b[39m=\u001b[39m \u001b[39mself\u001b[39m\u001b[39m.\u001b[39mcopy()\n\u001b[1;32m-> <a href='file:///c%3A/Users/MMarochov/Anaconda3/envs/mpd-ex/lib/site-packages/geopandas/geodataframe.py?line=1360'>1361</a>\u001b[0m geom \u001b[39m=\u001b[39m df\u001b[39m.\u001b[39;49mgeometry\u001b[39m.\u001b[39;49mto_crs(crs\u001b[39m=\u001b[39;49mcrs, epsg\u001b[39m=\u001b[39;49mepsg)\n\u001b[0;32m   <a href='file:///c%3A/Users/MMarochov/Anaconda3/envs/mpd-ex/lib/site-packages/geopandas/geodataframe.py?line=1361'>1362</a>\u001b[0m df\u001b[39m.\u001b[39mgeometry \u001b[39m=\u001b[39m geom\n\u001b[0;32m   <a href='file:///c%3A/Users/MMarochov/Anaconda3/envs/mpd-ex/lib/site-packages/geopandas/geodataframe.py?line=1362'>1363</a>\u001b[0m \u001b[39mif\u001b[39;00m \u001b[39mnot\u001b[39;00m inplace:\n",
      "File \u001b[1;32mc:\\Users\\MMarochov\\Anaconda3\\envs\\mpd-ex\\lib\\site-packages\\geopandas\\geoseries.py:1117\u001b[0m, in \u001b[0;36mGeoSeries.to_crs\u001b[1;34m(self, crs, epsg)\u001b[0m\n\u001b[0;32m   <a href='file:///c%3A/Users/MMarochov/Anaconda3/envs/mpd-ex/lib/site-packages/geopandas/geoseries.py?line=1039'>1040</a>\u001b[0m \u001b[39mdef\u001b[39;00m \u001b[39mto_crs\u001b[39m(\u001b[39mself\u001b[39m, crs\u001b[39m=\u001b[39m\u001b[39mNone\u001b[39;00m, epsg\u001b[39m=\u001b[39m\u001b[39mNone\u001b[39;00m):\n\u001b[0;32m   <a href='file:///c%3A/Users/MMarochov/Anaconda3/envs/mpd-ex/lib/site-packages/geopandas/geoseries.py?line=1040'>1041</a>\u001b[0m     \u001b[39m\"\"\"Returns a ``GeoSeries`` with all geometries transformed to a new\u001b[39;00m\n\u001b[0;32m   <a href='file:///c%3A/Users/MMarochov/Anaconda3/envs/mpd-ex/lib/site-packages/geopandas/geoseries.py?line=1041'>1042</a>\u001b[0m \u001b[39m    coordinate reference system.\u001b[39;00m\n\u001b[0;32m   <a href='file:///c%3A/Users/MMarochov/Anaconda3/envs/mpd-ex/lib/site-packages/geopandas/geoseries.py?line=1042'>1043</a>\u001b[0m \n\u001b[1;32m   (...)\u001b[0m\n\u001b[0;32m   <a href='file:///c%3A/Users/MMarochov/Anaconda3/envs/mpd-ex/lib/site-packages/geopandas/geoseries.py?line=1113'>1114</a>\u001b[0m \n\u001b[0;32m   <a href='file:///c%3A/Users/MMarochov/Anaconda3/envs/mpd-ex/lib/site-packages/geopandas/geoseries.py?line=1114'>1115</a>\u001b[0m \u001b[39m    \"\"\"\u001b[39;00m\n\u001b[0;32m   <a href='file:///c%3A/Users/MMarochov/Anaconda3/envs/mpd-ex/lib/site-packages/geopandas/geoseries.py?line=1115'>1116</a>\u001b[0m     \u001b[39mreturn\u001b[39;00m GeoSeries(\n\u001b[1;32m-> <a href='file:///c%3A/Users/MMarochov/Anaconda3/envs/mpd-ex/lib/site-packages/geopandas/geoseries.py?line=1116'>1117</a>\u001b[0m         \u001b[39mself\u001b[39;49m\u001b[39m.\u001b[39;49mvalues\u001b[39m.\u001b[39;49mto_crs(crs\u001b[39m=\u001b[39;49mcrs, epsg\u001b[39m=\u001b[39;49mepsg), index\u001b[39m=\u001b[39m\u001b[39mself\u001b[39m\u001b[39m.\u001b[39mindex, name\u001b[39m=\u001b[39m\u001b[39mself\u001b[39m\u001b[39m.\u001b[39mname\n\u001b[0;32m   <a href='file:///c%3A/Users/MMarochov/Anaconda3/envs/mpd-ex/lib/site-packages/geopandas/geoseries.py?line=1117'>1118</a>\u001b[0m     )\n",
      "File \u001b[1;32mc:\\Users\\MMarochov\\Anaconda3\\envs\\mpd-ex\\lib\\site-packages\\geopandas\\array.py:750\u001b[0m, in \u001b[0;36mGeometryArray.to_crs\u001b[1;34m(self, crs, epsg)\u001b[0m\n\u001b[0;32m    <a href='file:///c%3A/Users/MMarochov/Anaconda3/envs/mpd-ex/lib/site-packages/geopandas/array.py?line=680'>681</a>\u001b[0m \u001b[39m\"\"\"Returns a ``GeometryArray`` with all geometries transformed to a new\u001b[39;00m\n\u001b[0;32m    <a href='file:///c%3A/Users/MMarochov/Anaconda3/envs/mpd-ex/lib/site-packages/geopandas/array.py?line=681'>682</a>\u001b[0m \u001b[39mcoordinate reference system.\u001b[39;00m\n\u001b[0;32m    <a href='file:///c%3A/Users/MMarochov/Anaconda3/envs/mpd-ex/lib/site-packages/geopandas/array.py?line=682'>683</a>\u001b[0m \n\u001b[1;32m   (...)\u001b[0m\n\u001b[0;32m    <a href='file:///c%3A/Users/MMarochov/Anaconda3/envs/mpd-ex/lib/site-packages/geopandas/array.py?line=746'>747</a>\u001b[0m \n\u001b[0;32m    <a href='file:///c%3A/Users/MMarochov/Anaconda3/envs/mpd-ex/lib/site-packages/geopandas/array.py?line=747'>748</a>\u001b[0m \u001b[39m\"\"\"\u001b[39;00m\n\u001b[0;32m    <a href='file:///c%3A/Users/MMarochov/Anaconda3/envs/mpd-ex/lib/site-packages/geopandas/array.py?line=748'>749</a>\u001b[0m \u001b[39mif\u001b[39;00m \u001b[39mself\u001b[39m\u001b[39m.\u001b[39mcrs \u001b[39mis\u001b[39;00m \u001b[39mNone\u001b[39;00m:\n\u001b[1;32m--> <a href='file:///c%3A/Users/MMarochov/Anaconda3/envs/mpd-ex/lib/site-packages/geopandas/array.py?line=749'>750</a>\u001b[0m     \u001b[39mraise\u001b[39;00m \u001b[39mValueError\u001b[39;00m(\n\u001b[0;32m    <a href='file:///c%3A/Users/MMarochov/Anaconda3/envs/mpd-ex/lib/site-packages/geopandas/array.py?line=750'>751</a>\u001b[0m         \u001b[39m\"\u001b[39m\u001b[39mCannot transform naive geometries.  \u001b[39m\u001b[39m\"\u001b[39m\n\u001b[0;32m    <a href='file:///c%3A/Users/MMarochov/Anaconda3/envs/mpd-ex/lib/site-packages/geopandas/array.py?line=751'>752</a>\u001b[0m         \u001b[39m\"\u001b[39m\u001b[39mPlease set a crs on the object first.\u001b[39m\u001b[39m\"\u001b[39m\n\u001b[0;32m    <a href='file:///c%3A/Users/MMarochov/Anaconda3/envs/mpd-ex/lib/site-packages/geopandas/array.py?line=752'>753</a>\u001b[0m     )\n\u001b[0;32m    <a href='file:///c%3A/Users/MMarochov/Anaconda3/envs/mpd-ex/lib/site-packages/geopandas/array.py?line=753'>754</a>\u001b[0m \u001b[39mif\u001b[39;00m crs \u001b[39mis\u001b[39;00m \u001b[39mnot\u001b[39;00m \u001b[39mNone\u001b[39;00m:\n\u001b[0;32m    <a href='file:///c%3A/Users/MMarochov/Anaconda3/envs/mpd-ex/lib/site-packages/geopandas/array.py?line=754'>755</a>\u001b[0m     crs \u001b[39m=\u001b[39m CRS\u001b[39m.\u001b[39mfrom_user_input(crs)\n",
      "\u001b[1;31mValueError\u001b[0m: Cannot transform naive geometries.  Please set a crs on the object first."
     ]
    }
   ],
   "source": [
    "traj.hvplot()\n",
    "\n",
    "# WHYYYY"
   ]
  }
 ],
 "metadata": {
  "interpreter": {
   "hash": "df6a242ece4b3433a52b1316e25331fcb86a6fa483b6c2aa61e7afc30e14d3d3"
  },
  "kernelspec": {
   "display_name": "Python 3.9.13 ('mpd-ex')",
   "language": "python",
   "name": "python3"
  },
  "language_info": {
   "codemirror_mode": {
    "name": "ipython",
    "version": 3
   },
   "file_extension": ".py",
   "mimetype": "text/x-python",
   "name": "python",
   "nbconvert_exporter": "python",
   "pygments_lexer": "ipython3",
   "version": "3.9.13"
  },
  "orig_nbformat": 4
 },
 "nbformat": 4,
 "nbformat_minor": 2
}
